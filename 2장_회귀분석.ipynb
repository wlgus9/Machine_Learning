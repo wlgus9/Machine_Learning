{
  "nbformat": 4,
  "nbformat_minor": 0,
  "metadata": {
    "colab": {
      "name": "2장. 회귀분석.ipynb",
      "provenance": [],
      "toc_visible": true,
      "authorship_tag": "ABX9TyOnCy2dwjeug4wUL6PZj2YI",
      "include_colab_link": true
    },
    "kernelspec": {
      "name": "python3",
      "display_name": "Python 3"
    },
    "language_info": {
      "name": "python"
    }
  },
  "cells": [
    {
      "cell_type": "markdown",
      "metadata": {
        "id": "view-in-github",
        "colab_type": "text"
      },
      "source": [
        "<a href=\"https://colab.research.google.com/github/wlgus9/Machine_Learning/blob/main/2%EC%9E%A5_%ED%9A%8C%EA%B7%80%EB%B6%84%EC%84%9D.ipynb\" target=\"_parent\"><img src=\"https://colab.research.google.com/assets/colab-badge.svg\" alt=\"Open In Colab\"/></a>"
      ]
    },
    {
      "cell_type": "code",
      "execution_count": null,
      "metadata": {
        "id": "PK5uxDUx7z1Y"
      },
      "outputs": [],
      "source": [
        "X = [32, 64, 96, 118, 126, 144, 152, 158]\n",
        "Y = [17, 24, 62, 49, 52, 105, 130, 125]"
      ]
    },
    {
      "cell_type": "code",
      "source": [
        "import numpy as np"
      ],
      "metadata": {
        "id": "TSBFCg4AOGBN"
      },
      "execution_count": null,
      "outputs": []
    },
    {
      "cell_type": "code",
      "source": [
        "A = np.c_[X, np.ones(8)]\n",
        "A"
      ],
      "metadata": {
        "colab": {
          "base_uri": "https://localhost:8080/"
        },
        "id": "kgy5EOInOKco",
        "outputId": "21231b5e-be5d-4720-eecc-e6e8a61dcbf8"
      },
      "execution_count": null,
      "outputs": [
        {
          "output_type": "execute_result",
          "data": {
            "text/plain": [
              "array([[ 32.,   1.],\n",
              "       [ 64.,   1.],\n",
              "       [ 96.,   1.],\n",
              "       [118.,   1.],\n",
              "       [126.,   1.],\n",
              "       [144.,   1.],\n",
              "       [152.,   1.],\n",
              "       [158.,   1.]])"
            ]
          },
          "metadata": {},
          "execution_count": 3
        }
      ]
    },
    {
      "cell_type": "code",
      "source": [
        "B = np.array(Y)\n",
        "B"
      ],
      "metadata": {
        "colab": {
          "base_uri": "https://localhost:8080/"
        },
        "id": "AziFcLNUOQJ4",
        "outputId": "e0012028-9a70-4a46-b817-b0b9035bd24f"
      },
      "execution_count": null,
      "outputs": [
        {
          "output_type": "execute_result",
          "data": {
            "text/plain": [
              "array([ 17,  24,  62,  49,  52, 105, 130, 125])"
            ]
          },
          "metadata": {},
          "execution_count": 5
        }
      ]
    },
    {
      "cell_type": "code",
      "source": [
        "A.T"
      ],
      "metadata": {
        "colab": {
          "base_uri": "https://localhost:8080/"
        },
        "id": "7hr3J3gMOoSc",
        "outputId": "2eba9a69-6cd4-40a1-9d8d-b029fab32a63"
      },
      "execution_count": null,
      "outputs": [
        {
          "output_type": "execute_result",
          "data": {
            "text/plain": [
              "array([[ 32.,  64.,  96., 118., 126., 144., 152., 158.],\n",
              "       [  1.,   1.,   1.,   1.,   1.,   1.,   1.,   1.]])"
            ]
          },
          "metadata": {},
          "execution_count": 8
        }
      ]
    },
    {
      "cell_type": "code",
      "source": [
        "A.T @ A"
      ],
      "metadata": {
        "colab": {
          "base_uri": "https://localhost:8080/"
        },
        "id": "6Tvi5tjGO8fC",
        "outputId": "6ed85a2a-4d25-4812-8cbd-edd5c8c2877e"
      },
      "execution_count": null,
      "outputs": [
        {
          "output_type": "execute_result",
          "data": {
            "text/plain": [
              "array([[1.1294e+05, 8.9000e+02],\n",
              "       [8.9000e+02, 8.0000e+00]])"
            ]
          },
          "metadata": {},
          "execution_count": 9
        }
      ]
    },
    {
      "cell_type": "code",
      "source": [
        "np.linalg.inv(A.T @ A)"
      ],
      "metadata": {
        "colab": {
          "base_uri": "https://localhost:8080/"
        },
        "id": "4LaQz3EyPCsI",
        "outputId": "9a8c4ad8-e842-41f5-c46d-9a6323cf6f59"
      },
      "execution_count": null,
      "outputs": [
        {
          "output_type": "execute_result",
          "data": {
            "text/plain": [
              "array([[ 7.18003949e-05, -7.98779393e-03],\n",
              "       [-7.98779393e-03,  1.01364208e+00]])"
            ]
          },
          "metadata": {},
          "execution_count": 10
        }
      ]
    },
    {
      "cell_type": "code",
      "source": [
        "np.linalg.inv(A.T @ A) @ A.T"
      ],
      "metadata": {
        "colab": {
          "base_uri": "https://localhost:8080/"
        },
        "id": "d5vdphyEPFnb",
        "outputId": "070d37b4-0888-483c-efd1-7e357bf7647b"
      },
      "execution_count": null,
      "outputs": [
        {
          "output_type": "execute_result",
          "data": {
            "text/plain": [
              "array([[-5.69018130e-03, -3.39256866e-03, -1.09495602e-03,\n",
              "         4.84652666e-04,  1.05905582e-03,  2.35146293e-03,\n",
              "         2.92586609e-03,  3.35666846e-03],\n",
              "       [ 7.58032669e-01,  5.02423263e-01,  2.46813857e-01,\n",
              "         7.10823910e-02,  7.18003949e-03, -1.36600251e-01,\n",
              "        -2.00502603e-01, -2.48429366e-01]])"
            ]
          },
          "metadata": {},
          "execution_count": 11
        }
      ]
    },
    {
      "cell_type": "code",
      "source": [
        "np.linalg.inv(A.T @ A) @ A.T @ B\n",
        "\n",
        "#array([  0.87962664, -27.35846347]) --> y = 0.8796*X - 27.3585 --> 선형회귀모형\n",
        "#           weight          bias"
      ],
      "metadata": {
        "colab": {
          "base_uri": "https://localhost:8080/"
        },
        "id": "nWqjcl1TPIlT",
        "outputId": "62669c7a-5346-4ac7-ae23-49dda5286946"
      },
      "execution_count": null,
      "outputs": [
        {
          "output_type": "execute_result",
          "data": {
            "text/plain": [
              "array([  0.87962664, -27.35846347])"
            ]
          },
          "metadata": {},
          "execution_count": 12
        }
      ]
    },
    {
      "cell_type": "code",
      "source": [
        "from scipy import stats"
      ],
      "metadata": {
        "id": "YtlvJ6wyPKbH"
      },
      "execution_count": null,
      "outputs": []
    },
    {
      "cell_type": "code",
      "source": [
        "slope, intercept, r_value, p_value, std_err = stats.linregress(X, Y) #linregress() : 선형 최소제곱 회귀 계산\n",
        "print(f'slope : {slope}')\n",
        "print(f'intercept : {intercept}')\n",
        "print(f'r_value : {r_value}')\n",
        "print(f'p_value : {p_value}')\n",
        "print(f'std_err : {std_err}')"
      ],
      "metadata": {
        "colab": {
          "base_uri": "https://localhost:8080/"
        },
        "id": "YxmksXuNRTna",
        "outputId": "b09c8c21-d144-464c-b4fa-6f2606075202"
      },
      "execution_count": null,
      "outputs": [
        {
          "output_type": "stream",
          "name": "stdout",
          "text": [
            "slope : 0.8796266379465087\n",
            "intercept : -27.3584634715491\n",
            "r_value : 0.89008928103186\n",
            "p_value : 0.003051790677096642\n",
            "std_err : 0.18388671751663876\n"
          ]
        }
      ]
    },
    {
      "cell_type": "code",
      "source": [
        "#오차(추정값 - 실제값)의 제곱의 평균에 루트 = RMSE\n",
        "#rvalue : 결정계수 --> 회귀식이 데이터를 얼마나 설명하는지의 여부, 0~1 사이"
      ],
      "metadata": {
        "id": "Tb4z5IolRW1z"
      },
      "execution_count": null,
      "outputs": []
    },
    {
      "cell_type": "code",
      "source": [
        "import numpy as np\n",
        "import matplotlib.pyplot as plt\n",
        "%matplotlib inline"
      ],
      "metadata": {
        "id": "dscLwcSfbiA5"
      },
      "execution_count": null,
      "outputs": []
    },
    {
      "cell_type": "code",
      "source": [
        "plt.scatter(X, Y)\n",
        "plt.plot(X, slope*np.array(X) + intercept, '-')\n",
        "plt.show()"
      ],
      "metadata": {
        "colab": {
          "base_uri": "https://localhost:8080/",
          "height": 265
        },
        "id": "wO7YcWhHaBvN",
        "outputId": "2f46f79b-cf59-46e4-d745-13bb4223d323"
      },
      "execution_count": null,
      "outputs": [
        {
          "output_type": "display_data",
          "data": {
            "image/png": "[encoded data removed]",
            "text/plain": [
              "<Figure size 432x288 with 1 Axes>"
            ]
          },
          "metadata": {
            "needs_background": "light"
          }
        }
      ]
    },
    {
      "cell_type": "code",
      "source": [
        "# y = a*x**2 + b*x + c\n",
        "fit = np.polyfit(X, Y, 1)\n",
        "fit"
      ],
      "metadata": {
        "colab": {
          "base_uri": "https://localhost:8080/"
        },
        "id": "appUeabZWeOq",
        "outputId": "5af41593-b8a7-4cc9-9128-1acbf4c32634"
      },
      "execution_count": null,
      "outputs": [
        {
          "output_type": "execute_result",
          "data": {
            "text/plain": [
              "array([  0.87962664, -27.35846347])"
            ]
          },
          "metadata": {},
          "execution_count": 20
        }
      ]
    },
    {
      "cell_type": "code",
      "source": [
        "def func1(x):\n",
        "    y = fit[0]*x + fit[1]\n",
        "    return y"
      ],
      "metadata": {
        "id": "LLVgohx2XIFz"
      },
      "execution_count": null,
      "outputs": []
    },
    {
      "cell_type": "code",
      "source": [
        "func1(50)"
      ],
      "metadata": {
        "colab": {
          "base_uri": "https://localhost:8080/"
        },
        "id": "U0yW7Y30XbXE",
        "outputId": "49c91223-09d6-4eb1-903a-011076b8d876"
      },
      "execution_count": null,
      "outputs": [
        {
          "output_type": "execute_result",
          "data": {
            "text/plain": [
              "16.6228684257764"
            ]
          },
          "metadata": {},
          "execution_count": 21
        }
      ]
    },
    {
      "cell_type": "code",
      "source": [
        "func2 = np.poly1d(fit) #함수로 만들어줌\n",
        "func2 # --> f(X) = 0.87962664*X -27.35846347"
      ],
      "metadata": {
        "colab": {
          "base_uri": "https://localhost:8080/"
        },
        "id": "bY2dDdV6XeHz",
        "outputId": "5f9aad36-891d-4aa0-968f-7a6c6470361a"
      },
      "execution_count": null,
      "outputs": [
        {
          "output_type": "execute_result",
          "data": {
            "text/plain": [
              "poly1d([  0.87962664, -27.35846347])"
            ]
          },
          "metadata": {},
          "execution_count": 23
        }
      ]
    },
    {
      "cell_type": "code",
      "source": [
        "func2(50)"
      ],
      "metadata": {
        "colab": {
          "base_uri": "https://localhost:8080/"
        },
        "id": "LuhZownMXo2C",
        "outputId": "e8f59517-ead0-4bca-af07-7ce5510404b6"
      },
      "execution_count": null,
      "outputs": [
        {
          "output_type": "execute_result",
          "data": {
            "text/plain": [
              "16.6228684257764"
            ]
          },
          "metadata": {},
          "execution_count": 24
        }
      ]
    },
    {
      "cell_type": "code",
      "source": [
        "fit2 = np.polyfit(X, Y, 2)\n",
        "fit_fn2 = np.poly1d(fit2)"
      ],
      "metadata": {
        "colab": {
          "base_uri": "https://localhost:8080/"
        },
        "id": "GXt40ZplXsMY",
        "outputId": "b2f90d32-2b50-400a-c1d6-96b89e41ee7f"
      },
      "execution_count": null,
      "outputs": [
        {
          "output_type": "execute_result",
          "data": {
            "text/plain": [
              "poly1d([ 9.01276143e-03, -8.67975467e-01,  3.98246113e+01])"
            ]
          },
          "metadata": {},
          "execution_count": 25
        }
      ]
    },
    {
      "cell_type": "code",
      "source": [
        "plt.scatter(X, Y)\n",
        "sample_X = np.linspace(30, 160, 100)\n",
        "plt.plot(sample_X, fit_fn2(sample_X))"
      ],
      "metadata": {
        "colab": {
          "base_uri": "https://localhost:8080/",
          "height": 283
        },
        "id": "slX7gm62YALm",
        "outputId": "570e9f33-bfaf-4d5e-f022-3b94d6843a18"
      },
      "execution_count": null,
      "outputs": [
        {
          "output_type": "execute_result",
          "data": {
            "text/plain": [
              "[<matplotlib.lines.Line2D at 0x7f7cb785b590>]"
            ]
          },
          "metadata": {},
          "execution_count": 26
        },
        {
          "output_type": "display_data",
          "data": {
            "image/png": "[encoded data removed]",
            "text/plain": [
              "<Figure size 432x288 with 1 Axes>"
            ]
          },
          "metadata": {
            "needs_background": "light"
          }
        }
      ]
    },
    {
      "cell_type": "code",
      "source": [
        "def draw_polyfit(X, Y, deg=1):\n",
        "    import numpy as np\n",
        "    fit2 = np.polyfit(X, Y, deg)\n",
        "    print(fit2)\n",
        "    fit_fn2 = np.poly1d(fit2)\n",
        "    plt.scatter(X, Y)\n",
        "    sample_X = np.linspace(min(X), max(X), 100)\n",
        "    plt.plot(sample_X, fit_fn2(sample_X))\n",
        "    plt.show()"
      ],
      "metadata": {
        "id": "rn43A0eIYUI-"
      },
      "execution_count": null,
      "outputs": []
    },
    {
      "cell_type": "code",
      "source": [
        "draw_polyfit(X, Y, 3)"
      ],
      "metadata": {
        "colab": {
          "base_uri": "https://localhost:8080/",
          "height": 286
        },
        "id": "xU11135LZr_L",
        "outputId": "4e96ef60-0d5e-498b-c4b7-14cbd1b1cbb6"
      },
      "execution_count": null,
      "outputs": [
        {
          "output_type": "stream",
          "name": "stdout",
          "text": [
            "[ 1.36900759e-04 -3.06581641e-02  2.52476185e+00 -3.87896220e+01]\n"
          ]
        },
        {
          "output_type": "display_data",
          "data": {
            "image/png": "[encoded data removed]",
            "text/plain": [
              "<Figure size 432x288 with 1 Axes>"
            ]
          },
          "metadata": {
            "needs_background": "light"
          }
        }
      ]
    },
    {
      "cell_type": "code",
      "source": [
        "draw_polyfit(X, Y, 4)"
      ],
      "metadata": {
        "colab": {
          "base_uri": "https://localhost:8080/",
          "height": 302
        },
        "id": "SZEn88xVbCJz",
        "outputId": "8765d6d1-14dd-42df-8182-3628b1779510"
      },
      "execution_count": null,
      "outputs": [
        {
          "output_type": "stream",
          "name": "stdout",
          "text": [
            "[ 1.99322810e-06 -6.27067834e-04  7.07083835e-02 -2.84352700e+00\n",
            "  5.30450887e+01]\n"
          ]
        },
        {
          "output_type": "display_data",
          "data": {
            "image/png": "[encoded data removed]",
            "text/plain": [
              "<Figure size 432x288 with 1 Axes>"
            ]
          },
          "metadata": {
            "needs_background": "light"
          }
        }
      ]
    },
    {
      "cell_type": "code",
      "source": [
        "draw_polyfit(X, Y, 5)"
      ],
      "metadata": {
        "colab": {
          "base_uri": "https://localhost:8080/",
          "height": 302
        },
        "id": "l83wuB6MbC_J",
        "outputId": "f36fe639-c36e-4eb1-dd5a-e2eb7e07c4d0"
      },
      "execution_count": null,
      "outputs": [
        {
          "output_type": "stream",
          "name": "stdout",
          "text": [
            "[-3.60679943e-07  1.80553138e-04 -3.41559339e-02  3.01519333e+00\n",
            " -1.21436798e+02  1.75743817e+03]\n"
          ]
        },
        {
          "output_type": "display_data",
          "data": {
            "image/png": "[encoded data removed]",
            "text/plain": [
              "<Figure size 432x288 with 1 Axes>"
            ]
          },
          "metadata": {
            "needs_background": "light"
          }
        }
      ]
    },
    {
      "cell_type": "code",
      "source": [
        "draw_polyfit(X, Y, 6)"
      ],
      "metadata": {
        "colab": {
          "base_uri": "https://localhost:8080/",
          "height": 302
        },
        "id": "C54asaJPbEL0",
        "outputId": "80a1e610-76f8-4253-dd62-a07b661e5f6d"
      },
      "execution_count": null,
      "outputs": [
        {
          "output_type": "stream",
          "name": "stdout",
          "text": [
            "[-6.18327318e-09  3.46694642e-06 -7.70219609e-04  8.62372828e-02\n",
            " -5.09766458e+00  1.50398974e+02 -1.70364025e+03]\n"
          ]
        },
        {
          "output_type": "display_data",
          "data": {
            "image/png": "[encoded data removed]",
            "text/plain": [
              "<Figure size 432x288 with 1 Axes>"
            ]
          },
          "metadata": {
            "needs_background": "light"
          }
        }
      ]
    },
    {
      "cell_type": "markdown",
      "source": [
        "#statsmodels의 정규화 회귀모형"
      ],
      "metadata": {
        "id": "tuPcRCUOqNY0"
      }
    },
    {
      "cell_type": "code",
      "source": [
        "X = [32, 64, 96, 118, 126, 144, 152, 158]\n",
        "Y = [17, 24, 62, 49, 52, 105, 130, 125]"
      ],
      "metadata": {
        "id": "7vyZZJYUaIsD"
      },
      "execution_count": null,
      "outputs": []
    },
    {
      "cell_type": "code",
      "source": [
        "import numpy as np\n",
        "import pandas as pd\n",
        "import matplotlib.pyplot as plt\n",
        "\n",
        "df = pd.DataFrame(np.c_[X, Y], columns=['x', 'y'])"
      ],
      "metadata": {
        "id": "Y_cY7jDSbPRK"
      },
      "execution_count": null,
      "outputs": []
    },
    {
      "cell_type": "code",
      "source": [
        "from statsmodels.formula.api import ols\n",
        "model = ols('y ~ x', data=df)\n",
        "result = model.fit()\n",
        "result.params"
      ],
      "metadata": {
        "colab": {
          "base_uri": "https://localhost:8080/"
        },
        "id": "O64aLHJibbBz",
        "outputId": "55b88ed6-f21a-4894-f1c5-d450b42b205b"
      },
      "execution_count": null,
      "outputs": [
        {
          "output_type": "execute_result",
          "data": {
            "text/plain": [
              "Intercept   -27.358463\n",
              "x             0.879627\n",
              "dtype: float64"
            ]
          },
          "metadata": {},
          "execution_count": 8
        }
      ]
    },
    {
      "cell_type": "code",
      "source": [
        "n_samples = 30\n",
        "np.random.seed(0)\n",
        "X = np.sort(np.random.rand(n_samples))\n",
        "y = np.sin(2*np.pi * X) + np.random.randn(n_samples)*0.1"
      ],
      "metadata": {
        "id": "JmSwqxD8bm-x"
      },
      "execution_count": null,
      "outputs": []
    },
    {
      "cell_type": "code",
      "source": [
        "plt.scatter(X, y)\n",
        "plt.show()"
      ],
      "metadata": {
        "colab": {
          "base_uri": "https://localhost:8080/",
          "height": 265
        },
        "id": "3ID4SG1ZoOuz",
        "outputId": "8a881fee-fe1b-4cb2-b492-562a0d4e58a1"
      },
      "execution_count": null,
      "outputs": [
        {
          "output_type": "display_data",
          "data": {
            "image/png": "[encoded data removed]",
            "text/plain": [
              "<Figure size 432x288 with 1 Axes>"
            ]
          },
          "metadata": {
            "needs_background": "light"
          }
        }
      ]
    },
    {
      "cell_type": "code",
      "source": [
        "df = pd.DataFrame(np.c_[X, y], columns=['x', 'y'])"
      ],
      "metadata": {
        "id": "aqhCPVkEojRr"
      },
      "execution_count": null,
      "outputs": []
    },
    {
      "cell_type": "code",
      "source": [
        "from statsmodels.formula.api import ols\n",
        "model = ols('y ~ x', data=df)\n",
        "result = model.fit()\n",
        "result.params"
      ],
      "metadata": {
        "colab": {
          "base_uri": "https://localhost:8080/"
        },
        "id": "kQdhOSqjoZhx",
        "outputId": "39b15185-c622-4b2f-a23e-7c1cfbdc9e83"
      },
      "execution_count": null,
      "outputs": [
        {
          "output_type": "execute_result",
          "data": {
            "text/plain": [
              "Intercept    0.713959\n",
              "x           -1.642204\n",
              "dtype: float64"
            ]
          },
          "metadata": {},
          "execution_count": 13
        }
      ]
    },
    {
      "cell_type": "code",
      "source": [
        "plt.scatter(X, y)\n",
        "xx = np.linspace(0, 1, 1000)\n",
        "plt.plot(xx, result.predict({'x':xx}))\n",
        "plt.show()"
      ],
      "metadata": {
        "colab": {
          "base_uri": "https://localhost:8080/",
          "height": 265
        },
        "id": "EDlQ46Ntok7i",
        "outputId": "77e49b36-b5b4-432c-9d2e-72fc676524fc"
      },
      "execution_count": null,
      "outputs": [
        {
          "output_type": "display_data",
          "data": {
            "image/png": "[encoded data removed]",
            "text/plain": [
              "<Figure size 432x288 with 1 Axes>"
            ]
          },
          "metadata": {
            "needs_background": "light"
          }
        }
      ]
    },
    {
      "cell_type": "code",
      "source": [
        "import numpy as np\n",
        "import pandas as pd\n",
        "import matplotlib.pyplot as plt\n",
        "import statsmodels.api as sm"
      ],
      "metadata": {
        "id": "k0OecKxFotW6"
      },
      "execution_count": null,
      "outputs": []
    },
    {
      "cell_type": "markdown",
      "source": [
        "#회귀모형 평가함수 (당뇨병 데이터)"
      ],
      "metadata": {
        "id": "BJHhsb_hAqPq"
      }
    },
    {
      "cell_type": "code",
      "source": [
        "from sklearn import datasets, linear_model\n",
        "from sklearn.model_selection import train_test_split"
      ],
      "metadata": {
        "id": "OfpMvW3tb4g2"
      },
      "execution_count": null,
      "outputs": []
    },
    {
      "cell_type": "code",
      "source": [
        "diabetes = datasets.load_diabetes()\n",
        "X = diabetes.data\n",
        "y = diabetes.target"
      ],
      "metadata": {
        "id": "YBr07qMocAi2"
      },
      "execution_count": null,
      "outputs": []
    },
    {
      "cell_type": "code",
      "source": [
        "train_X, test_X, train_y, test_y = train_test_split(X, y, test_size=0.3)"
      ],
      "metadata": {
        "id": "hdHq5uNocNGm"
      },
      "execution_count": null,
      "outputs": []
    },
    {
      "cell_type": "code",
      "source": [
        "lasso = linear_model.Lasso()\n",
        "model = lasso.fit(train_X, train_y)\n",
        "model"
      ],
      "metadata": {
        "colab": {
          "base_uri": "https://localhost:8080/"
        },
        "id": "3nJg1gqdcS3W",
        "outputId": "258e6c33-f025-459a-ff0e-3fedf27f646b"
      },
      "execution_count": null,
      "outputs": [
        {
          "output_type": "execute_result",
          "data": {
            "text/plain": [
              "Lasso()"
            ]
          },
          "metadata": {},
          "execution_count": 24
        }
      ]
    },
    {
      "cell_type": "code",
      "source": [
        "pred = model.predict(test_X)\n",
        "pred[:10]"
      ],
      "metadata": {
        "colab": {
          "base_uri": "https://localhost:8080/"
        },
        "id": "cpzRMBZ3cYh-",
        "outputId": "56d7fdb8-f471-455d-be77-b64af11da7ac"
      },
      "execution_count": null,
      "outputs": [
        {
          "output_type": "execute_result",
          "data": {
            "text/plain": [
              "array([135.94366828, 169.81415232, 119.93634143, 174.51723015,\n",
              "       176.90090684, 137.17983118, 100.07335275, 212.50721313,\n",
              "       136.93194012, 157.21292614])"
            ]
          },
          "metadata": {},
          "execution_count": 27
        }
      ]
    },
    {
      "cell_type": "code",
      "source": [
        "from sklearn.metrics import mean_squared_error\n",
        "mean_squared_error(test_y, pred)"
      ],
      "metadata": {
        "colab": {
          "base_uri": "https://localhost:8080/"
        },
        "id": "5NdCwDJQdu5o",
        "outputId": "de7dd5bd-fe3e-4d18-dccf-6082d6b4bb91"
      },
      "execution_count": null,
      "outputs": [
        {
          "output_type": "execute_result",
          "data": {
            "text/plain": [
              "3498.9170193688733"
            ]
          },
          "metadata": {},
          "execution_count": 28
        }
      ]
    },
    {
      "cell_type": "code",
      "source": [
        "import math\n",
        "rmse = math.sqrt(mean_squared_error(test_y, pred))\n",
        "rmse"
      ],
      "metadata": {
        "colab": {
          "base_uri": "https://localhost:8080/"
        },
        "id": "vInDXpUVeP_v",
        "outputId": "d1e12806-011b-4684-eadc-2ae3c7d1defc"
      },
      "execution_count": null,
      "outputs": [
        {
          "output_type": "execute_result",
          "data": {
            "text/plain": [
              "59.151644265978554"
            ]
          },
          "metadata": {},
          "execution_count": 31
        }
      ]
    },
    {
      "cell_type": "code",
      "source": [
        "from sklearn.metrics import mean_absolute_error\n",
        "mean_absolute_error(test_y, pred)"
      ],
      "metadata": {
        "colab": {
          "base_uri": "https://localhost:8080/"
        },
        "id": "Uvbv464AeZbW",
        "outputId": "84744431-1ef8-40a7-e6b8-548098ad2cb1"
      },
      "execution_count": null,
      "outputs": [
        {
          "output_type": "execute_result",
          "data": {
            "text/plain": [
              "49.338711280555074"
            ]
          },
          "metadata": {},
          "execution_count": 32
        }
      ]
    },
    {
      "cell_type": "code",
      "source": [
        "from sklearn.metrics import explained_variance_score\n",
        "explained_variance_score(test_y, pred)"
      ],
      "metadata": {
        "colab": {
          "base_uri": "https://localhost:8080/"
        },
        "id": "sefHOBXXel89",
        "outputId": "8f1b48c2-7afa-47b6-c445-77c74a54e65f"
      },
      "execution_count": null,
      "outputs": [
        {
          "output_type": "execute_result",
          "data": {
            "text/plain": [
              "0.3753063002492637"
            ]
          },
          "metadata": {},
          "execution_count": 33
        }
      ]
    },
    {
      "cell_type": "code",
      "source": [
        "from sklearn.metrics import r2_score\n",
        "r2_score(test_y, pred)"
      ],
      "metadata": {
        "colab": {
          "base_uri": "https://localhost:8080/"
        },
        "id": "SJAN-4w-esNe",
        "outputId": "c1ac37cd-7e16-4c76-c471-b7b6586130d8"
      },
      "execution_count": null,
      "outputs": [
        {
          "output_type": "execute_result",
          "data": {
            "text/plain": [
              "0.37152745605554083"
            ]
          },
          "metadata": {},
          "execution_count": 34
        }
      ]
    },
    {
      "cell_type": "code",
      "source": [
        ""
      ],
      "metadata": {
        "id": "mtDY4xCiew8O"
      },
      "execution_count": null,
      "outputs": []
    }
  ]
}